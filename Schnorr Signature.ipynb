{
 "cells": [
  {
   "cell_type": "markdown",
   "metadata": {},
   "source": [
    "#           NETWORKS SECURITY AND CRYPTOGRAHY FUNDAMENTALS \n",
    "\n",
    "#                                      Topic: Schnorr Digital Signature"
   ]
  },
  {
   "cell_type": "code",
   "execution_count": 1,
   "metadata": {},
   "outputs": [],
   "source": [
    "# Algortihm\n",
    "\n",
    "# Generating private key & public key pair:\n",
    "\n",
    "# 1.\tChoose primes p and q, such that q is a prime factor of p-1.\n",
    "# 2.\tChoose an integer a, such that a^q  = 1 mod p. The values a, p, and q comprise a global public key that can be common to a group of users.\n",
    "# 3.\tChoose a random integer s with 0 < s < q. This is the user’s private key.\n",
    "# 4.\tCalculate v = a^-s mod p. This is the user’s public key.\n",
    " \n",
    "\n",
    "# Creating Digital Signature:\n",
    "\n",
    "# 1.\tChoose a random integer r with 0 < r < q and compute x = a r mod p. This computation is a pre-processing stage independent of the message M to be signed.\n",
    "# 2.\tConcatenate the message with and hash the result to compute the value:\n",
    "# i.\te = H (M || x)\n",
    "\n",
    "# 3.\tCompute y = (r + se) mod q. The signature consists of the pair (e, y).\n",
    "\n",
    "# Signature Verification\n",
    "\n",
    "# 1.\tCompute k = a^ y v^e  mod p\n",
    "# = a ^y  a^( -se)  mod p        (∵ v = a -s mod p)\n",
    "# = a ^(y-se) mod p\n",
    "# = a^ r mod p       (∵ y = r + se)\n",
    "# = x\n",
    "\n",
    "           # So, here k = x.\n",
    "\n",
    "# 2.\tVerify that e = H (M || x).\n",
    "# i.\tHence, H (M || k) = H (M || x).\n"
   ]
  },
  {
   "cell_type": "markdown",
   "metadata": {
    "slideshow": {
     "slide_type": "subslide"
    }
   },
   "source": [
    "# Let’s consider a scenario of two friends Karthik and Mansoor. Karthik wants to send his Aadhar information to Mansoor for his land document registration purpose. Karthik sends this document through Schnorr protocol. Now Mansoor checks this document and verifies whether the recieved document is original or manipulated."
   ]
  },
  {
   "cell_type": "code",
   "execution_count": 2,
   "metadata": {},
   "outputs": [],
   "source": [
    "#Importing necessary libraries"
   ]
  },
  {
   "cell_type": "code",
   "execution_count": 3,
   "metadata": {
    "execution": {
     "iopub.execute_input": "2021-10-14T16:02:31.806072Z",
     "iopub.status.busy": "2021-10-14T16:02:31.804963Z",
     "iopub.status.idle": "2021-10-14T16:02:31.810330Z",
     "shell.execute_reply": "2021-10-14T16:02:31.809478Z",
     "shell.execute_reply.started": "2021-10-14T16:02:31.806022Z"
    }
   },
   "outputs": [],
   "source": [
    "import random\n",
    "import ipywidgets as widgets\n",
    "from hashlib import sha1\n",
    "import math"
   ]
  },
  {
   "cell_type": "code",
   "execution_count": 4,
   "metadata": {},
   "outputs": [],
   "source": [
    "# Defining Hash function\n",
    "# UTF-8 is the most widely used way to represent Unicode text in web pages\n",
    "# hexdigest returns the encoded data in hexadecimal format\n",
    "# SHA-1 is a cryptographic hash function which takes an input and produces a 160-bit hash value known as a message digest "
   ]
  },
  {
   "cell_type": "code",
   "execution_count": 5,
   "metadata": {},
   "outputs": [],
   "source": [
    "def hash_function(message):\n",
    "    hashed=sha1(message.encode(\"UTF-8\")).hexdigest()\n",
    "    return hashed"
   ]
  },
  {
   "cell_type": "code",
   "execution_count": 6,
   "metadata": {
    "execution": {
     "iopub.execute_input": "2021-10-14T14:38:23.858777Z",
     "iopub.status.busy": "2021-10-14T14:38:23.858529Z",
     "iopub.status.idle": "2021-10-14T14:38:23.871445Z",
     "shell.execute_reply": "2021-10-14T14:38:23.8704Z",
     "shell.execute_reply.started": "2021-10-14T14:38:23.858748Z"
    }
   },
   "outputs": [],
   "source": [
    "# Defining the variables -\n",
    "# p = prime number;\n",
    "# q = prime factor of q-1;\n",
    "# a = alpha value which is computed by the formula -> \"[a^q = 1 mod p]\";\n",
    "# s = karthik's secret / private key computed by choosing a random integer with the condition -> \"[0<s<q]\";\n",
    "# v = karthik's public key computed by the formula -> \"[v = a^(-s) mod p]\";"
   ]
  },
  {
   "cell_type": "code",
   "execution_count": 7,
   "metadata": {},
   "outputs": [],
   "source": [
    "# The public key “v” will be global and public knowledge along with p, q and a. \n",
    "# However only Ramesh will have the knowledge of the private key \"s\"."
   ]
  },
  {
   "cell_type": "code",
   "execution_count": 8,
   "metadata": {
    "execution": {
     "iopub.execute_input": "2021-10-14T16:11:15.641573Z",
     "iopub.status.busy": "2021-10-14T16:11:15.640774Z",
     "iopub.status.idle": "2021-10-14T16:11:15.646255Z",
     "shell.execute_reply": "2021-10-14T16:11:15.645689Z",
     "shell.execute_reply.started": "2021-10-14T16:11:15.641535Z"
    }
   },
   "outputs": [],
   "source": [
    "# Choosing primes p and q, such that q is a prime factor of p-1.\n",
    "def create_public_and_private_keys():\n",
    "    \n",
    "    p = int(input(\"Enter a prime number 'p':\"))\n",
    "    \n",
    "    if p > 1:\n",
    "        for i in range(2, int(p/2)+1):\n",
    "            \n",
    "            if (p % i) == 0:\n",
    "                print(p, \"is not a prime number\")\n",
    "                u=0\n",
    "                break\n",
    "        else:\n",
    "            print(p, \"is a prime number\")\n",
    "            u=1\n",
    "    else:\n",
    "        print(p, \"is not a prime number\")\n",
    "        u=0\n",
    "        \n",
    "    if(u==1):\n",
    "        n = p-1 \n",
    "        print(\"The prime factors of 'p-1' are:\")\n",
    "        while (n % 2 == 0):\n",
    "            print(2),\n",
    "            n = n / 2\n",
    "        \n",
    "        #Here n is divided to half to reduce the process\n",
    "        # n must be odd at this point    \n",
    "        #so a skip of 2 ( i = i + 2) can be used\n",
    "        for i in range(3,int(math.sqrt(n))+1,2):\n",
    "         \n",
    "            # while i divides n , print i and divide n\n",
    "            while n % i== 0:\n",
    "                print(i),\n",
    "                n = n / i\n",
    "        if n > 2:\n",
    "            print(int(n))\n",
    "        \n",
    "        q = int(input(\"Choose the prime number 'q' which is a prime factor of 'p-1' from the above list:\"))\n",
    "        \n",
    "        # Choosing alpha 'a' such that [α^q = 1 mod p]; \n",
    "        k=1%p\n",
    "        a=k**(1/q)\n",
    "        \n",
    "        # Calculating kathik's secret key by choosing a random integer\n",
    "        s=random.randint(0,q)\n",
    "        \n",
    "        # Calcuating karthik's public key\n",
    "        v=((a)**-s)%p\n",
    "        # Printing karthik's prime number p, q and public key\n",
    "        print('\\nAt Karthik side i.e., Sender -\\n')\n",
    "        print('Prime number \"p\" selected by the sender is: ', p)\n",
    "        print('Prime number \"q\" selected by the sender is: ', q)\n",
    "        print('Alpha value chosen by sender: ', int(a))\n",
    "        print('Public key generated: ', int(v))\n",
    "        print('Secret key generated: ',s)\n",
    "        return p,q,a,s,v\n",
    "    else:\n",
    "        print(\"Please check the prime number\")"
   ]
  },
  {
   "cell_type": "code",
   "execution_count": 9,
   "metadata": {},
   "outputs": [],
   "source": [
    "# Defining the variables -\n",
    "# r = random integer chosen with the condition \"[0<r<q]\";\n",
    "# x = value derived by computing the formula \"[x = a^r mod p]\";\n",
    "# m = input file document;\n",
    "# h = concatenated message with 'x'\n",
    "# e = hash value calculated for the message 'm' that is concatenated with 'x';\n",
    "# h = Computed value y = (r + s*e) mod q"
   ]
  },
  {
   "cell_type": "code",
   "execution_count": 10,
   "metadata": {},
   "outputs": [],
   "source": [
    "# Now Karthik signs and wants to sends an encrypted message \"m\". he will follow the following steps to use Schnorr's signature:-\n",
    "\n",
    "# He will first choose a random number “r” such that 0<r<q.\n",
    "# He will now compute a value X such that: X= a^r mod p.\n",
    "# Now that he has computed the value of X, he is going concatenate this with the original message(same as string concatenation).\n",
    "# So, he is going to concatenate 'm' and 'x' to get m||x. and he is going to store the hash of this value in e.\n",
    "# e = H(m||x) where H() is the hash function \n",
    "# He is going to get a value “y” such that:\n",
    "# y = (r + s*e) mod q "
   ]
  },
  {
   "cell_type": "code",
   "execution_count": 11,
   "metadata": {
    "execution": {
     "iopub.execute_input": "2021-10-14T16:18:11.301502Z",
     "iopub.status.busy": "2021-10-14T16:18:11.301220Z",
     "iopub.status.idle": "2021-10-14T16:18:11.310450Z",
     "shell.execute_reply": "2021-10-14T16:18:11.309432Z",
     "shell.execute_reply.started": "2021-10-14T16:18:11.301472Z"
    }
   },
   "outputs": [],
   "source": [
    "def keygen_and_creating_signature():\n",
    "    \n",
    "    # Deriving values from the function \"create_public_and_private_keys()\"\n",
    "    p,q,a,s,v = create_public_and_private_keys()\n",
    "    \n",
    "    # Generating random integer 'r'\n",
    "    r=random.randint(0,q)\n",
    "        \n",
    "    # Calculating the value for 'x'\n",
    "    x=(a**r)%p\n",
    "    print('The computed value of \"x\" which is used for concatenation is:', int(x))\n",
    "    \n",
    "    # Giving an input message to be sent\n",
    "    m=msginput()\n",
    "    with open(m) as file:\n",
    "        text=file.read()\n",
    "        hash_component = hash_function(text)\n",
    "\n",
    "    # Concatenating the message 'm' with 'x'\n",
    "    h=hash_component+str(int(x))\n",
    "    print('The concatenated msg at sender Ramesh side is:', h)\n",
    "    \n",
    "    # Generating the hash value for the concatenated message 'h'\n",
    "    z = hash_function(h)\n",
    "    e = int(z,16)\n",
    "    \n",
    "    # Calculating the value 'y'\n",
    "    y=(r+(s*e))%q\n",
    "    \n",
    "    # Key pair generated is-\n",
    "    print('\\nThe signature consists of the pair (hash value,y) -> (e,y): ', (e,y))"
   ]
  },
  {
   "cell_type": "code",
   "execution_count": 12,
   "metadata": {
    "execution": {
     "iopub.execute_input": "2021-10-14T16:18:23.262465Z",
     "iopub.status.busy": "2021-10-14T16:18:23.261774Z",
     "iopub.status.idle": "2021-10-14T16:18:23.266516Z",
     "shell.execute_reply": "2021-10-14T16:18:23.265752Z",
     "shell.execute_reply.started": "2021-10-14T16:18:23.262426Z"
    }
   },
   "outputs": [],
   "source": [
    "def msginput():\n",
    "    file_name=input(\"Enter the name of document to sign: \")\n",
    "    return file_name"
   ]
  },
  {
   "cell_type": "code",
   "execution_count": 13,
   "metadata": {},
   "outputs": [],
   "source": [
    "# Now that all the computations are over, he is going to send the following to Mansoor.\n",
    "\n",
    "# The message “m”.\n",
    "# The signatures e and y.\n",
    "\n",
    "# Along with this, Mansoor has the following public piece of information:--\n",
    "\n",
    "# Karthik's public key “v”.\n",
    "# The prime number that Karthik chose “p”.\n",
    "# “q” which is the factor of “p-1” which Karthik chose.\n",
    "# “a” such that a^q = 1 mod p, chosen by Karthik.\n",
    "\n",
    "# Now, Mansoor will have to compute 'k' such that:\n",
    "# k = a^y * v^e mod p "
   ]
  },
  {
   "cell_type": "code",
   "execution_count": 14,
   "metadata": {
    "execution": {
     "iopub.execute_input": "2021-10-14T16:16:19.182664Z",
     "iopub.status.busy": "2021-10-14T16:16:19.182044Z",
     "iopub.status.idle": "2021-10-14T16:16:19.188816Z",
     "shell.execute_reply": "2021-10-14T16:16:19.188131Z",
     "shell.execute_reply.started": "2021-10-14T16:16:19.182622Z"
    }
   },
   "outputs": [],
   "source": [
    "def verify():\n",
    "    \n",
    "    # Here we will be verifying the signature with the given values sent by the karthik \n",
    "    # values α, p, and q comprise a global public key 'v' that can be common to a group of users.\n",
    "    \n",
    "    \n",
    "    print('\\nVerification at Mansoor side i.e., Reciever side -\\n')\n",
    "    print(\"Enter two prime numbers chosen by the karthik:\")\n",
    "    p=int(input(\"First prime number: \"))\n",
    "    q=int(input(\"Second prime number: \"))\n",
    "    v=int(input(\"Enter the public key of the karthik: \"))\n",
    "    a=int(input(\"Enter the value of alpha such that a^q = 1 mod p, chosen by karthik: \"))\n",
    "    m=input(\"Enter the name of the file that is sent by the karthik: \")\n",
    "    with open(m) as file:\n",
    "        text=file.read()\n",
    "        hash_component1 = hash_function(text)\n",
    "    e=int(input(\"Enter the hash value sent by the karthik: \"))\n",
    "    y=int(input(\"Enter the value of y sent by the karthik: \"))\n",
    "    \n",
    "    # Computing the value 'k' with the help of the given values \n",
    "    k=((a**y)*(v**e))%p\n",
    "    print('\\nThe new computed value of \"k\" generated by mansoor is: ', int(k))\n",
    "    \n",
    "    # Concatenating the message with the new calculated value 'k'\n",
    "    l=hash_component1+str(int(k))\n",
    "    print('The new concatenated message is: ', l)\n",
    "    \n",
    "    # Generating the hash value for the concatenated message at the reciever side-\n",
    "    y = hash_function(l)\n",
    "    g = int(y,16)\n",
    "    print('The hash value generated for the concatenated message at Mansoor side: ',g)\n",
    "    \n",
    "    print('\\nChecking whether the derived hash value is eqivalent to the hash value given by karthik:')\n",
    "    if (e == g):\n",
    "        print(\"\\nThe Hash values are matched perfectly, The message sent by the karthik is True\")\n",
    "    else:\n",
    "        print(\"\\nThe message sent by the karthik is False, Please recheck the message file or hash value or y value and try again\")   "
   ]
  },
  {
   "cell_type": "code",
   "execution_count": 15,
   "metadata": {
    "execution": {
     "iopub.execute_input": "2021-10-14T16:16:20.690736Z",
     "iopub.status.busy": "2021-10-14T16:16:20.689860Z",
     "iopub.status.idle": "2021-10-14T16:16:20.696383Z",
     "shell.execute_reply": "2021-10-14T16:16:20.695605Z",
     "shell.execute_reply.started": "2021-10-14T16:16:20.690695Z"
    }
   },
   "outputs": [],
   "source": [
    "def main():\n",
    "    while(1):\n",
    "        choice = int(input(\"\\nEnter your choice of selection here:\"))\n",
    "    \n",
    "        if (choice==1): keygen_and_creating_signature()\n",
    "        elif (choice==2): verify()\n",
    "        elif (choice==3): \n",
    "            print(\"Exit\")\n",
    "            break\n",
    "        else: raise Exception(\"Enter correct input\")"
   ]
  },
  {
   "cell_type": "code",
   "execution_count": 17,
   "metadata": {
    "execution": {
     "iopub.execute_input": "2021-10-14T16:18:28.240818Z",
     "iopub.status.busy": "2021-10-14T16:18:28.240503Z",
     "iopub.status.idle": "2021-10-14T16:18:30.762482Z",
     "shell.execute_reply": "2021-10-14T16:18:30.761704Z",
     "shell.execute_reply.started": "2021-10-14T16:18:28.240770Z"
    }
   },
   "outputs": [
    {
     "data": {
      "application/vnd.jupyter.widget-view+json": {
       "model_id": "1fa3a44744cb46baaab66884dfa92151",
       "version_major": 2,
       "version_minor": 0
      },
      "text/plain": [
       "VBox(children=(HTML(value='<h1>Schnorr Digital Signature</h1>'),))"
      ]
     },
     "metadata": {},
     "output_type": "display_data"
    },
    {
     "data": {
      "application/vnd.jupyter.widget-view+json": {
       "model_id": "5e63ca2b3cea4647a5d3f0b6306eb060",
       "version_major": 2,
       "version_minor": 0
      },
      "text/plain": [
       "VBox(children=(HTML(value='<h2> Choose your option:</h2>'), HTML(value='<h2> 1. Generating keypair and creatin…"
      ]
     },
     "metadata": {},
     "output_type": "display_data"
    },
    {
     "name": "stdout",
     "output_type": "stream",
     "text": [
      "\n",
      "Enter your choice of selection here:1\n",
      "Enter a prime number 'p':59\n",
      "59 is a prime number\n",
      "The prime factors of 'p-1' are:\n",
      "2\n",
      "29\n",
      "Choose the prime number 'q' which is a prime factor of 'p-1' from the above list:29\n",
      "\n",
      "At Karthik side i.e., Sender -\n",
      "\n",
      "Prime number \"p\" selected by the sender is:  59\n",
      "Prime number \"q\" selected by the sender is:  29\n",
      "Alpha value chosen by sender:  1\n",
      "Public key generated:  1\n",
      "Secret key generated:  1\n",
      "The computed value of \"x\" which is used for concatenation is: 1\n",
      "Enter the name of document to sign: Aadhar.txt\n",
      "The concatenated msg at sender Ramesh side is: 27ff491a2ede8f321885628fb6cbeae696495c2d1\n",
      "\n",
      "The signature consists of the pair (hash value,y) -> (e,y):  (1342301905424409579212231967720745639497737631088, 18)\n",
      "\n",
      "Enter your choice of selection here:2\n",
      "\n",
      "Verification at Mansoor side i.e., Reciever side -\n",
      "\n",
      "Enter two prime numbers chosen by the karthik:\n",
      "First prime number: 59\n",
      "Second prime number: 29\n",
      "Enter the public key of the karthik: 1\n",
      "Enter the value of alpha such that a^q = 1 mod p, chosen by karthik: 1\n",
      "Enter the name of the file that is sent by the karthik: Aadhar.txt\n",
      "Enter the hash value sent by the karthik: 1342301905424409579212231967720745639497737631088\n",
      "Enter the value of y sent by the karthik: 18\n",
      "\n",
      "The new computed value of \"k\" generated by mansoor is:  1\n",
      "The new concatenated message is:  27ff491a2ede8f321885628fb6cbeae696495c2d1\n",
      "The hash value generated for the concatenated message at Mansoor side:  1342301905424409579212231967720745639497737631088\n",
      "\n",
      "Checking whether the derived hash value is eqivalent to the hash value given by karthik:\n",
      "\n",
      "The Hash values are matched perfectly, The message sent by the karthik is True\n",
      "\n",
      "Enter your choice of selection here:3\n",
      "Exit\n"
     ]
    }
   ],
   "source": [
    "text_0 = widgets.HTML(value=\"<h1>Schnorr Digital Signature</h1>\")\n",
    "vbox_text = widgets.VBox([text_0])\n",
    "\n",
    "page = widgets.VBox([text_0])\n",
    "display(page)\n",
    "text_1 = widgets.HTML(value=\"<h2> Choose your option:</h2>\")\n",
    "text_2 = widgets.HTML(value=\"<h2> 1. Generating keypair and creating signature</h3>\")\n",
    "text_3 = widgets.HTML(value=\"<h2> 2. Signature verification</h3>\")\n",
    "text_4 = widgets.HTML(value=\"<h2> 3. Exit</h3>\")\n",
    "page =widgets.VBox([text_1,text_2,text_3,text_4])\n",
    "\n",
    "\n",
    "display(page)\n",
    "main()"
   ]
  },
  {
   "cell_type": "code",
   "execution_count": null,
   "metadata": {},
   "outputs": [],
   "source": []
  }
 ],
 "metadata": {
  "celltoolbar": "Slideshow",
  "kernelspec": {
   "display_name": "Python 3",
   "language": "python",
   "name": "python3"
  },
  "language_info": {
   "codemirror_mode": {
    "name": "ipython",
    "version": 3
   },
   "file_extension": ".py",
   "mimetype": "text/x-python",
   "name": "python",
   "nbconvert_exporter": "python",
   "pygments_lexer": "ipython3",
   "version": "3.8.11"
  }
 },
 "nbformat": 4,
 "nbformat_minor": 4
}
