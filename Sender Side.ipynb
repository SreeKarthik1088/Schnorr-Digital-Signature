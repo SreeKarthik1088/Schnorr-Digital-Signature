{
 "cells": [
  {
   "cell_type": "code",
   "execution_count": 1,
   "id": "fb9cc457",
   "metadata": {},
   "outputs": [],
   "source": [
    "import random\n",
    "import ipywidgets as widgets\n",
    "from hashlib import sha1\n",
    "import math"
   ]
  },
  {
   "cell_type": "code",
   "execution_count": 2,
   "id": "43ddd2af",
   "metadata": {},
   "outputs": [],
   "source": [
    "def hash_function(message):\n",
    "    hashed=sha1(message.encode(\"UTF-8\")).hexdigest()\n",
    "    return hashed"
   ]
  },
  {
   "cell_type": "code",
   "execution_count": 3,
   "id": "fa1d778a",
   "metadata": {},
   "outputs": [],
   "source": [
    "# Choosing primes p and q, such that q is a prime factor of p-1.\n",
    "def create_public_and_private_keys():\n",
    "    \n",
    "    p = int(input(\"Enter a prime number 'p':\"))\n",
    "    \n",
    "    if p > 1:\n",
    "        for i in range(2, int(p/2)+1):\n",
    "            \n",
    "            if (p % i) == 0:\n",
    "                print(p, \"is not a prime number\")\n",
    "                u=0\n",
    "                break\n",
    "        else:\n",
    "            print(p, \"is a prime number\")\n",
    "            u=1\n",
    "    else:\n",
    "        print(p, \"is not a prime number\")\n",
    "        u=0\n",
    "        \n",
    "    if(u==1):\n",
    "        n = p-1 \n",
    "        print(\"The prime factors of 'p-1' are:\")\n",
    "        while (n % 2 == 0):\n",
    "            print(2),\n",
    "            n = n / 2\n",
    "        \n",
    "        #Here n is divided to half to reduce the process\n",
    "        # n must be odd at this point    \n",
    "        #so a skip of 2 ( i = i + 2) can be used\n",
    "        for i in range(3,int(math.sqrt(n))+1,2):\n",
    "         \n",
    "            # while i divides n , print i and divide n\n",
    "            while n % i== 0:\n",
    "                print(i),\n",
    "                n = n / i\n",
    "        if n > 2:\n",
    "            print(int(n))\n",
    "        \n",
    "        q = int(input(\"Choose the prime number 'q' which is a prime factor of 'p-1' from the above list:\"))\n",
    "        \n",
    "        # Choosing alpha 'a' such that [α^q = 1 mod p]; \n",
    "        k=1%p\n",
    "        a=k**(1/q)\n",
    "        \n",
    "        # Calculating kathik's secret key by choosing a random integer\n",
    "        s=random.randint(0,q)\n",
    "        \n",
    "        # Calcuating karthik's public key\n",
    "        v=((a)**-s)%p\n",
    "        # Printing karthik's prime number p, q and public key\n",
    "        print('\\nAt Karthik side i.e., Sender -\\n')\n",
    "        print('Prime number \"p\" selected by the sender is: ', p)\n",
    "        print('Prime number \"q\" selected by the sender is: ', q)\n",
    "        print('Alpha value chosen by sender: ', int(a))\n",
    "        print('Public key generated: ', int(v))\n",
    "        print('Secret key generated: ',s)\n",
    "        return p,q,a,s,v\n",
    "    else:\n",
    "        print(\"Please check the prime number\")"
   ]
  },
  {
   "cell_type": "code",
   "execution_count": 4,
   "id": "02884f48",
   "metadata": {},
   "outputs": [],
   "source": [
    "def keygen_and_creating_signature():\n",
    "    \n",
    "    # Deriving values from the function \"create_public_and_private_keys()\"\n",
    "    p,q,a,s,v = create_public_and_private_keys()\n",
    "    \n",
    "    # Generating random integer 'r'\n",
    "    r=random.randint(0,q)\n",
    "        \n",
    "    # Calculating the value for 'x'\n",
    "    x=(a**r)%p\n",
    "    print('The computed value of \"x\" which is used for concatenation is:', int(x))\n",
    "    \n",
    "    # Giving an input message to be sent\n",
    "    m=msginput()\n",
    "    with open(m) as file:\n",
    "        text=file.read()\n",
    "        hash_component = hash_function(text)\n",
    "\n",
    "    # Concatenating the message 'm' with 'x'\n",
    "    h=hash_component+str(int(x))\n",
    "    print('The concatenated msg at sender Ramesh side is:', h)\n",
    "    \n",
    "    # Generating the hash value for the concatenated message 'h'\n",
    "    z = hash_function(h)\n",
    "    e = int(z,16)\n",
    "    \n",
    "    # Calculating the value 'y'\n",
    "    y=(r+(s*e))%q\n",
    "    \n",
    "    # Key pair generated is-\n",
    "    print('\\nThe signature consists of the pair (hash value,y) -> (e,y): ', (e,y))"
   ]
  },
  {
   "cell_type": "code",
   "execution_count": 5,
   "id": "e956398c",
   "metadata": {},
   "outputs": [],
   "source": [
    "def msginput():\n",
    "    file_name=input(\"Enter the name of document to sign: \")\n",
    "    return file_name\n"
   ]
  },
  {
   "cell_type": "code",
   "execution_count": 6,
   "id": "c069afb7",
   "metadata": {},
   "outputs": [],
   "source": [
    "def main():\n",
    "    while(1):\n",
    "        choice = int(input(\"\\nEnter your choice of selection here:\"))\n",
    "    \n",
    "        if (choice==1): keygen_and_creating_signature()\n",
    "        elif (choice==2): \n",
    "            print(\"Exit\")\n",
    "            break\n",
    "        else: raise Exception(\"Enter correct input\")"
   ]
  },
  {
   "cell_type": "code",
   "execution_count": null,
   "id": "57becc00",
   "metadata": {},
   "outputs": [
    {
     "data": {
      "application/vnd.jupyter.widget-view+json": {
       "model_id": "6625f19e346446e4915e19e3a7edc5e2",
       "version_major": 2,
       "version_minor": 0
      },
      "text/plain": [
       "VBox(children=(HTML(value='<h1>Schnorr Digital Signature</h1>'),))"
      ]
     },
     "metadata": {},
     "output_type": "display_data"
    },
    {
     "data": {
      "application/vnd.jupyter.widget-view+json": {
       "model_id": "a62b3976f1044beca333c5d0a6db5f02",
       "version_major": 2,
       "version_minor": 0
      },
      "text/plain": [
       "VBox(children=(HTML(value='<h2> Choose your option:</h2>'), HTML(value='<h2> 1. Generating keypair and creatin…"
      ]
     },
     "metadata": {},
     "output_type": "display_data"
    },
    {
     "name": "stdout",
     "output_type": "stream",
     "text": [
      "\n",
      "Enter your choice of selection here:1\n",
      "Enter a prime number 'p':59\n",
      "59 is a prime number\n",
      "The prime factors of 'p-1' are:\n",
      "2\n",
      "29\n",
      "Choose the prime number 'q' which is a prime factor of 'p-1' from the above list:29\n",
      "\n",
      "At Karthik side i.e., Sender -\n",
      "\n",
      "Prime number \"p\" selected by the sender is:  59\n",
      "Prime number \"q\" selected by the sender is:  29\n",
      "Alpha value chosen by sender:  1\n",
      "Public key generated:  1\n",
      "Secret key generated:  2\n",
      "The computed value of \"x\" which is used for concatenation is: 1\n",
      "Enter the name of document to sign: Aadhar.txt\n",
      "The concatenated msg at sender Ramesh side is: 80ecdb2cb3233f7a89b191ccc517e1f9c36623221\n",
      "\n",
      "The signature consists of the pair (hash value,y) -> (e,y):  (944692970881853348025601326593629495748327319984, 10)\n"
     ]
    }
   ],
   "source": [
    "text_0 = widgets.HTML(value=\"<h1>Schnorr Digital Signature</h1>\")\n",
    "vbox_text = widgets.VBox([text_0])\n",
    "\n",
    "page = widgets.VBox([text_0])\n",
    "display(page)\n",
    "text_1 = widgets.HTML(value=\"<h2> Choose your option:</h2>\")\n",
    "text_2 = widgets.HTML(value=\"<h2> 1. Generating keypair and creating signature</h3>\")\n",
    "text_3 = widgets.HTML(value=\"<h2> 2. Exit</h3>\")\n",
    "page =widgets.VBox([text_1,text_2,text_3])\n",
    "\n",
    "\n",
    "display(page)\n",
    "main()"
   ]
  },
  {
   "cell_type": "code",
   "execution_count": null,
   "id": "2d1addd7",
   "metadata": {},
   "outputs": [],
   "source": []
  }
 ],
 "metadata": {
  "kernelspec": {
   "display_name": "Python 3",
   "language": "python",
   "name": "python3"
  },
  "language_info": {
   "codemirror_mode": {
    "name": "ipython",
    "version": 3
   },
   "file_extension": ".py",
   "mimetype": "text/x-python",
   "name": "python",
   "nbconvert_exporter": "python",
   "pygments_lexer": "ipython3",
   "version": "3.8.11"
  }
 },
 "nbformat": 4,
 "nbformat_minor": 5
}
